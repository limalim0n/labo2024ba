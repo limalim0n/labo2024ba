{
 "cells": [
  {
   "cell_type": "code",
   "execution_count": 3,
   "id": "a4abffc4-f409-4f52-81ba-902dd74c8e9a",
   "metadata": {},
   "outputs": [],
   "source": [
    "import copy\n",
    "import sys\n",
    "import random\n",
    "import pickle\n",
    "import torch\n",
    "import warnings\n",
    "import logging\n",
    "import gc\n",
    "import math\n",
    "import numpy as np\n",
    "import pandas as pd\n",
    "import torch.nn as nn\n",
    "import torch.optim as optim\n",
    "import torch.nn.functional as F\n",
    "import matplotlib.pyplot as plt\n",
    "\n",
    "\n",
    "import pytorch_optimizer as optim_mod\n",
    "\n",
    "from torch.optim import Optimizer\n",
    "from torch.utils.data import DataLoader, TensorDataset\n",
    "from sklearn.model_selection import train_test_split, StratifiedKFold\n",
    "from sklearn.preprocessing import LabelEncoder, StandardScaler\n",
    "from sklearn.impute import SimpleImputer\n",
    "from imblearn.over_sampling import SMOTE\n",
    "from sklearn.utils.class_weight import compute_class_weight\n",
    "from sklearn.metrics import classification_report\n",
    "from collections import Counter\n",
    "from tqdm import tqdm\n",
    "from sklearn.exceptions import UndefinedMetricWarning\n",
    "\n",
    "from torch.cuda.amp import autocast, GradScaler\n",
    "from IPython.display import display, HTML\n",
    "\n",
    "from collections import defaultdict\n",
    "from sklearn.model_selection import StratifiedKFold\n",
    "\n",
    "import pickle\n",
    "import pandas as pd\n"
   ]
  },
  {
   "cell_type": "code",
   "execution_count": 2,
   "id": "f5d09989-968b-4fce-9dd4-24262ecaafba",
   "metadata": {},
   "outputs": [],
   "source": [
    "\n",
    "\n",
    "dset = \"datasets_vivencial_competencia_2024.csv\"\n",
    "# Load your dataset\n",
    "dataset = pd.read_csv(dset, low_memory=False)\n",
    "\n",
    "# Initialize the dictionary to store all months for each client\n",
    "client_uptime = {}\n",
    "\n",
    "# Iterate over the dataset to populate the dictionary\n",
    "for index, row in dataset.iterrows():\n",
    "    client_id = row['numero_de_cliente']\n",
    "    month = row['foto_mes']\n",
    "    \n",
    "    # Add client_id if not in the dictionary and track months\n",
    "    if client_id not in client_uptime:\n",
    "        client_uptime[client_id] = []\n",
    "    \n",
    "    # Append the month the client appears in the database\n",
    "    client_uptime[client_id].append(month)\n",
    "\n",
    "# Save the dictionary to a file\n",
    "with open('client_uptime.pkl', 'wb') as f:\n",
    "    pickle.dump(client_uptime, f)"
   ]
  },
  {
   "cell_type": "code",
   "execution_count": 3,
   "id": "2d617580-3687-4f34-9983-493172b9d85e",
   "metadata": {},
   "outputs": [],
   "source": [
    "#Falta el load del dataset y del diccionario"
   ]
  },
  {
   "cell_type": "code",
   "execution_count": 4,
   "id": "9c24ac83-e3c4-4272-981e-82f552f0b167",
   "metadata": {},
   "outputs": [],
   "source": [
    "# Find clients whose last active month is 202109 in the new dictionary structure\n",
    "clients_with_202109 = [client_id for client_id, months in client_uptime.items() if max(months) == 202109]"
   ]
  },
  {
   "cell_type": "code",
   "execution_count": 5,
   "id": "67640372-c14a-4eba-a63e-e3c44802cc71",
   "metadata": {},
   "outputs": [
    {
     "data": {
      "text/plain": [
       "165093"
      ]
     },
     "execution_count": 5,
     "metadata": {},
     "output_type": "execute_result"
    }
   ],
   "source": [
    "len(clients_with_202109)"
   ]
  },
  {
   "cell_type": "code",
   "execution_count": 6,
   "id": "9d7898b6-dc09-4f40-96e9-8d78842c87a7",
   "metadata": {},
   "outputs": [
    {
     "name": "stdout",
     "output_type": "stream",
     "text": [
      "No client IDs are 0 in clients_with_202109.\n"
     ]
    }
   ],
   "source": [
    "# Check if 0 is in the list of client IDs with last active month 202109\n",
    "has_zero_in_clients_with_202109 = 0 in clients_with_202109\n",
    "\n",
    "# Output the result\n",
    "if has_zero_in_clients_with_202109:\n",
    "    print(\"There is at least one client ID that is 0 in clients_with_202109.\")\n",
    "else:\n",
    "    print(\"No client IDs are 0 in clients_with_202109.\")\n"
   ]
  },
  {
   "cell_type": "code",
   "execution_count": 7,
   "id": "1e4715ca-23b4-4830-82d4-93037f007a04",
   "metadata": {},
   "outputs": [],
   "source": [
    "# Step 2: Filter the dataset based on the client_ids identified in Step 1\n",
    "filtered_dataset = dataset[dataset['numero_de_cliente'].isin(clients_with_202109)].copy()"
   ]
  },
  {
   "cell_type": "code",
   "execution_count": 8,
   "id": "1b037639-ac78-46e4-93f4-0f4ee5ec3f72",
   "metadata": {},
   "outputs": [],
   "source": [
    "#filtered_dataset = dataset.copy()"
   ]
  },
  {
   "cell_type": "code",
   "execution_count": 9,
   "id": "38c777b9-f206-4a44-9394-016ec4ac6d58",
   "metadata": {},
   "outputs": [],
   "source": [
    "# Step 2: Apply preprocessing for the filtered dataset\n",
    "\n",
    "# Extract the year and month from `foto_mes`\n",
    "filtered_dataset['year'] = filtered_dataset['foto_mes'].astype(str).str[:4].astype(int)\n",
    "filtered_dataset['month'] = filtered_dataset['foto_mes'].astype(str).str[4:6].astype(int)\n",
    "\n",
    "# Apply Cyclic Encoding to the `month` column\n",
    "filtered_dataset['month_sin'] = np.sin(2 * np.pi * filtered_dataset['month'] / 12)\n",
    "filtered_dataset['month_cos'] = np.cos(2 * np.pi * filtered_dataset['month'] / 12)\n",
    "\n",
    "# Drop the unnecessary columns but retain `numero_de_cliente` and other useful features\n",
    "X_filtered = filtered_dataset.drop(columns=['clase_ternaria', 'month', 'year'])"
   ]
  },
  {
   "cell_type": "code",
   "execution_count": 10,
   "id": "d5828ccd-c3e1-488b-bbe8-f5f334978631",
   "metadata": {},
   "outputs": [
    {
     "name": "stdout",
     "output_type": "stream",
     "text": [
      "(4545593, 152)\n"
     ]
    }
   ],
   "source": [
    "# Handle missing indicators for imputation (excluding `numero_de_cliente`, `month_sin`, `month_cos`, and `foto_mes`)\n",
    "missing_indicators_np_filtered = np.isnan(X_filtered).astype(int)\n",
    "\n",
    "# Get the list of columns to exclude for missing indicator handling\n",
    "columns_to_exclude = ['numero_de_cliente', 'foto_mes', 'month_sin', 'month_cos']\n",
    "\n",
    "# Filter the missing indicators for the relevant columns (excluding the columns in columns_to_exclude)\n",
    "missing_indicators_filtered = X_filtered.drop(columns=columns_to_exclude)\n",
    "missing_indicators_filtered = np.isnan(missing_indicators_filtered).astype(int)\n",
    "\n",
    "# Check the shape of the missing indicators\n",
    "print(missing_indicators_filtered.shape)"
   ]
  },
  {
   "cell_type": "code",
   "execution_count": 11,
   "id": "599e231a-0aae-4b43-bb64-7ae40f56e918",
   "metadata": {},
   "outputs": [
    {
     "name": "stdout",
     "output_type": "stream",
     "text": [
      "(4545593, 156)\n"
     ]
    }
   ],
   "source": [
    "import numpy as np\n",
    "import pandas as pd\n",
    "from sklearn.impute import SimpleImputer\n",
    "from sklearn.preprocessing import StandardScaler\n",
    "\n",
    "# Define the columns to exclude from scaling and imputation\n",
    "columns_to_exclude = ['numero_de_cliente', 'foto_mes', 'month_sin', 'month_cos']\n",
    "\n",
    "# Identify columns to scale (all except the excluded ones)\n",
    "columns_to_scale = [col for col in X_filtered.columns if col not in columns_to_exclude]\n",
    "\n",
    "# Convert X_filtered to a NumPy array for processing\n",
    "X_filtered_np = X_filtered.to_numpy()\n",
    "\n",
    "# Get the indices of columns to exclude\n",
    "exclude_indices = [X_filtered.columns.get_loc(col) for col in columns_to_exclude]\n",
    "\n",
    "# Get the indices of columns to scale\n",
    "scale_indices = [i for i in range(X_filtered.shape[1]) if i not in exclude_indices]\n",
    "\n",
    "# Step 1: Scale first, handling NaNs\n",
    "\n",
    "# Compute mean and std for scaling, ignoring NaNs\n",
    "means = np.nanmean(X_filtered_np[:, scale_indices], axis=0)\n",
    "stds = np.nanstd(X_filtered_np[:, scale_indices], axis=0)\n",
    "\n",
    "# Avoid division by zero by setting stds that are zero to one\n",
    "stds_corrected = np.where(stds == 0, 1, stds)\n",
    "\n",
    "# Apply scaling: (X - mean) / std\n",
    "X_scaled_filtered = X_filtered_np.copy()\n",
    "X_scaled_filtered[:, scale_indices] = (X_filtered_np[:, scale_indices] - means) / stds_corrected\n",
    "\n",
    "# Step 2: Impute missing values using median\n",
    "\n",
    "# Initialize the median imputer\n",
    "imputer = SimpleImputer(strategy='median')\n",
    "\n",
    "# Apply the imputer to the scaled columns\n",
    "X_scaled_filtered[:, scale_indices] = imputer.fit_transform(X_scaled_filtered[:, scale_indices])\n",
    "\n",
    "# Optional: If excluded columns need imputation, handle them here\n",
    "# imputer_excluded = SimpleImputer(strategy='median')\n",
    "# X_scaled_filtered[:, exclude_indices] = imputer_excluded.fit_transform(X_scaled_filtered[:, exclude_indices])\n",
    "\n",
    "# Check the shape of the imputed and scaled data\n",
    "print(X_scaled_filtered.shape)\n",
    "\n",
    "# Optionally, convert back to a DataFrame for easier handling later\n",
    "# X_imputed_scaled_filtered = pd.DataFrame(X_scaled_filtered, columns=X_filtered.columns)\n"
   ]
  },
  {
   "cell_type": "code",
   "execution_count": 12,
   "id": "6d24d9dc-d9c7-4def-96ef-6600b6c23a53",
   "metadata": {},
   "outputs": [
    {
     "name": "stdout",
     "output_type": "stream",
     "text": [
      "(4545593, 308)\n",
      "(4545593, 309)\n"
     ]
    }
   ],
   "source": [
    "# Step 1: Combine scaled data with the filtered missing indicators\n",
    "X_combined_filtered = np.concatenate([X_scaled_filtered, missing_indicators_filtered], axis=1)\n",
    "\n",
    "# Step 2: Create column names for the missing indicators\n",
    "# Exclude 'numero_de_cliente', 'foto_mes', 'month_sin', and 'month_cos' for missing indicators\n",
    "missing_indicator_columns_filtered = [f'missing_indicator_{col}' for col in X_filtered.columns if col not in ['numero_de_cliente', 'foto_mes', 'month_sin', 'month_cos']]\n",
    "\n",
    "# Step 3: Check the shape of the combined data\n",
    "print(X_combined_filtered.shape)\n",
    "\n",
    "# Step 4: Combine the original feature names with missing indicator column names and add `month_sin`, `month_cos`, and `foto_mes`\n",
    "combined_columns_filtered = list(X_filtered.columns) + missing_indicator_columns_filtered\n",
    "\n",
    "# Step 5: Convert the combined data back into a DataFrame using the updated column names\n",
    "X_combined_filtered_df = pd.DataFrame(X_combined_filtered, columns=combined_columns_filtered)\n",
    "\n",
    "# Step 6: Add the target 'clase_ternaria' back to the DataFrame\n",
    "X_combined_filtered_df['clase_ternaria'] = filtered_dataset['clase_ternaria'].values\n",
    "\n",
    "# Optional: Print the shape of the final DataFrame to confirm\n",
    "print(X_combined_filtered_df.shape)\n"
   ]
  },
  {
   "cell_type": "code",
   "execution_count": 13,
   "id": "4d47f446-c15c-4610-9c62-a9478feed810",
   "metadata": {},
   "outputs": [],
   "source": [
    "X_combined_filtered_df.to_pickle('X_combined_filtered_df_INFERENCE_final.pkl')"
   ]
  },
  {
   "cell_type": "code",
   "execution_count": null,
   "id": "62c5622f-7753-4b6a-80d8-e46b5a2313bf",
   "metadata": {},
   "outputs": [],
   "source": []
  },
  {
   "cell_type": "code",
   "execution_count": null,
   "id": "c61c31f9-73cf-4d54-b63d-af0513fb8d14",
   "metadata": {},
   "outputs": [],
   "source": []
  },
  {
   "cell_type": "code",
   "execution_count": 4,
   "id": "33117890-3eaa-4441-82e0-fbbdd4e7a833",
   "metadata": {},
   "outputs": [],
   "source": [
    "X_combined_filtered_df = pd.read_pickle('X_combined_filtered_df_INFERENCE_final.pkl')"
   ]
  },
  {
   "cell_type": "code",
   "execution_count": 5,
   "id": "0163dd48-87ae-4f18-a79c-0c997e203a22",
   "metadata": {},
   "outputs": [
    {
     "name": "stdout",
     "output_type": "stream",
     "text": [
      "(4545593, 309)\n"
     ]
    }
   ],
   "source": [
    "print(X_combined_filtered_df.shape)"
   ]
  },
  {
   "cell_type": "code",
   "execution_count": 6,
   "id": "0e54877b-6877-40ab-be4a-55ddf9117a19",
   "metadata": {},
   "outputs": [
    {
     "name": "stdout",
     "output_type": "stream",
     "text": [
      "Number of skipped clients: 0\n"
     ]
    }
   ],
   "source": [
    "from collections import defaultdict\n",
    "import numpy as np\n",
    "import pandas as pd\n",
    "\n",
    "# Time frame of the data\n",
    "min_month = 201901\n",
    "max_month = 202109\n",
    "\n",
    "# Group the dataset by 'numero_de_cliente'\n",
    "grouped_filtered = X_combined_filtered_df.groupby('numero_de_cliente')\n",
    "\n",
    "sequences_filtered = defaultdict(list)\n",
    "labels_filtered = defaultdict(list)\n",
    "skipped_clients = []  # Keep track of skipped clients\n",
    "\n",
    "# Helper function to calculate the range of months\n",
    "def generate_month_range(start_month, end_month):\n",
    "    year_start, month_start = divmod(int(start_month), 100)\n",
    "    year_end, month_end = divmod(int(end_month), 100)\n",
    "    \n",
    "    return [year * 100 + month for year in range(year_start, year_end + 1) \n",
    "            for month in range(1, 13) if (year > year_start or month >= month_start) \n",
    "            and (year < year_end or month <= month_end)]\n",
    "\n",
    "# Generate the full range of months in the dataset\n",
    "full_month_range = generate_month_range(min_month, max_month)\n",
    "\n",
    "# Total sequence length to be 33 months\n",
    "total_sequence_length = 33\n",
    "\n",
    "# Create sequences for each client\n",
    "for client_id, group in grouped_filtered:\n",
    "    # Retain the client_id separately (client ID is the first feature and should be restored later)\n",
    "    numero_de_cliente = group['numero_de_cliente'].values[0]  # Store client_id\n",
    "    \n",
    "    # Extract the feature data (including 'numero_de_cliente' initially for padding)\n",
    "    client_sequence = group.drop(columns=['clase_ternaria', 'foto_mes']).values\n",
    "    client_labels = group['clase_ternaria'].values\n",
    "    client_foto_mes = group['foto_mes'].values\n",
    "\n",
    "    # Initialize lists to collect the sequence and labels\n",
    "    full_sequence = []\n",
    "    full_labels = []\n",
    "    \n",
    "    # Determine the first and last active month for this client\n",
    "    first_active_month = int(np.min(client_foto_mes))\n",
    "    last_active_month = int(np.max(client_foto_mes))\n",
    "    \n",
    "    # Check if there are any valid (non-NaN) labels\n",
    "    valid_months_with_labels = client_foto_mes[~pd.isna(client_labels)]\n",
    "    months_with_nan_labels = client_foto_mes[pd.isna(client_labels)]\n",
    "    \n",
    "    #if len(valid_months_with_labels) == 0:\n",
    "        # Print client details when skipping\n",
    "     #   print(f\"Skipping Client ID: {numero_de_cliente}\")\n",
    "      #  print(f\"Active months: {client_foto_mes}\")\n",
    "       # print(f\"Months with NaN labels: {months_with_nan_labels}\")\n",
    "        \n",
    "        # Add this client to the skipped list\n",
    "        #skipped_clients.append(numero_de_cliente)\n",
    "        #continue\n",
    "\n",
    "    # Step 1: Pad the sequence for any gaps in activity (inactive months)\n",
    "    for month in full_month_range:\n",
    "        if month < first_active_month or month > last_active_month:\n",
    "            # Pad for months outside the client's activity period\n",
    "            padded_features = np.zeros(client_sequence.shape[1])  # Pad features with 0s\n",
    "            full_sequence.append(padded_features)\n",
    "            full_labels.append('OUT')  # Pad with 'OUT' label\n",
    "        elif month in client_foto_mes:\n",
    "            # Client has data for this month\n",
    "            month_index = np.where(client_foto_mes == month)[0][0]\n",
    "            sequence_data = client_sequence[month_index]\n",
    "            label_data = client_labels[month_index]\n",
    "            \n",
    "            if pd.isna(label_data):\n",
    "                full_labels.append('MISSING')\n",
    "            else:\n",
    "                full_labels.append(label_data)\n",
    "                \n",
    "            full_sequence.append(sequence_data)\n",
    "        else:\n",
    "            # Client inactive for this month (pad the sequence)\n",
    "            padded_features = np.zeros(client_sequence.shape[1])  # Pad features with 0s\n",
    "            full_sequence.append(padded_features)\n",
    "            full_labels.append('OUT')  # Pad with 'OUT' label\n",
    "    \n",
    "    # Convert to numpy arrays\n",
    "    full_sequence = np.array(full_sequence)\n",
    "    full_labels = np.array(full_labels)\n",
    "    \n",
    "    # Step 2: Ensure the sequence has exactly 33 months by trimming or padding\n",
    "    current_length = len(full_sequence)\n",
    "    \n",
    "    if current_length < total_sequence_length:\n",
    "        # Calculate the number of months to pad at the beginning\n",
    "        padding_length = total_sequence_length - current_length\n",
    "        \n",
    "        # Create padding of zeros and 'OUT' labels for the start\n",
    "        padding_features = np.zeros((padding_length, full_sequence.shape[1]))\n",
    "        padding_labels = np.full(padding_length, 'OUT')\n",
    "        \n",
    "        # Concatenate padding at the beginning of the sequence and labels\n",
    "        full_sequence = np.concatenate((padding_features, full_sequence), axis=0)\n",
    "        full_labels = np.concatenate((padding_labels, full_labels), axis=0)\n",
    "    \n",
    "    # Restore 'numero_de_cliente' in the first column of the features\n",
    "    if len(full_sequence) > 0:\n",
    "        full_sequence[:, 0] = numero_de_cliente\n",
    "\n",
    "    # Print debug info if the sequence is not of length 33\n",
    "    if len(full_sequence) != total_sequence_length:\n",
    "        print(f\"Client ID {numero_de_cliente} sequence not 33 months, length is {len(full_sequence)}\")\n",
    "    \n",
    "    # Only append if the client was not skipped\n",
    "    if numero_de_cliente not in skipped_clients:\n",
    "        sequences_filtered[client_id].append(full_sequence)\n",
    "        labels_filtered[client_id].append(full_labels)\n",
    "\n",
    "# Convert the sequences and labels dictionaries to NumPy arrays\n",
    "sequence_array_filtered = np.array([seq[0] for seq in sequences_filtered.values()])\n",
    "label_array_filtered = np.array([label[0] for label in labels_filtered.values()])\n",
    "\n",
    "print(\"Number of skipped clients:\", len(skipped_clients))\n"
   ]
  },
  {
   "cell_type": "code",
   "execution_count": 7,
   "id": "1252cda7-8888-4d18-adf2-213fb6b19aae",
   "metadata": {},
   "outputs": [
    {
     "data": {
      "text/plain": [
       "[array(['CONTINUA', 'CONTINUA', 'CONTINUA', 'BAJA+2', 'BAJA+1', 'OUT',\n",
       "        'OUT', 'OUT', 'OUT', 'CONTINUA', 'CONTINUA', 'CONTINUA',\n",
       "        'CONTINUA', 'CONTINUA', 'CONTINUA', 'CONTINUA', 'CONTINUA',\n",
       "        'CONTINUA', 'CONTINUA', 'CONTINUA', 'CONTINUA', 'CONTINUA',\n",
       "        'CONTINUA', 'CONTINUA', 'CONTINUA', 'CONTINUA', 'CONTINUA',\n",
       "        'CONTINUA', 'CONTINUA', 'CONTINUA', 'CONTINUA', 'MISSING',\n",
       "        'MISSING'], dtype='<U8')]"
      ]
     },
     "execution_count": 7,
     "metadata": {},
     "output_type": "execute_result"
    }
   ],
   "source": [
    "labels_filtered[29507885]\n"
   ]
  },
  {
   "cell_type": "code",
   "execution_count": 8,
   "id": "f9b87ee2-f605-4ebb-88d5-6dc6f9a1f1d9",
   "metadata": {},
   "outputs": [
    {
     "data": {
      "text/plain": [
       "[]"
      ]
     },
     "execution_count": 8,
     "metadata": {},
     "output_type": "execute_result"
    }
   ],
   "source": [
    "labels_filtered[29184493]\n"
   ]
  },
  {
   "cell_type": "code",
   "execution_count": 9,
   "id": "4638e8fc-103a-4624-b4ed-eefc54316bb8",
   "metadata": {},
   "outputs": [
    {
     "data": {
      "text/plain": [
       "[array(['OUT', 'OUT', 'OUT', 'OUT', 'OUT', 'OUT', 'OUT', 'OUT', 'OUT',\n",
       "        'OUT', 'OUT', 'OUT', 'OUT', 'OUT', 'OUT', 'OUT', 'OUT', 'OUT',\n",
       "        'OUT', 'OUT', 'OUT', 'OUT', 'OUT', 'OUT', 'OUT', 'OUT', 'OUT',\n",
       "        'OUT', 'OUT', 'OUT', 'OUT', 'OUT', 'MISSING'], dtype='<U7')]"
      ]
     },
     "execution_count": 9,
     "metadata": {},
     "output_type": "execute_result"
    }
   ],
   "source": [
    "labels_filtered[31498147]"
   ]
  },
  {
   "cell_type": "code",
   "execution_count": 10,
   "id": "fbc06b2f-fc1a-459b-833e-1c89777f8f2b",
   "metadata": {},
   "outputs": [
    {
     "name": "stdout",
     "output_type": "stream",
     "text": [
      "(165093, 33, 307)\n",
      "(165093, 33)\n"
     ]
    }
   ],
   "source": [
    "print(sequence_array_filtered.shape[:])\n",
    "print(label_array_filtered.shape[:])"
   ]
  },
  {
   "cell_type": "code",
   "execution_count": 11,
   "id": "76c67f61-d96c-4a2a-8406-92d263d1c1e1",
   "metadata": {},
   "outputs": [],
   "source": [
    "# Save the sequences and labels arrays\n",
    "np.savez('sequence_array_filtered_INFERENCE_final.npz', sequences=sequence_array_filtered)\n",
    "np.savez('label_array_filtered_INFERENCE_final.npz', labels=label_array_filtered)"
   ]
  },
  {
   "cell_type": "code",
   "execution_count": null,
   "id": "cdfeb3f0-41da-4c1e-90e1-833ea9e5526f",
   "metadata": {},
   "outputs": [],
   "source": []
  },
  {
   "cell_type": "code",
   "execution_count": null,
   "id": "a2d75c64-ef29-4a71-b020-daf36828ed20",
   "metadata": {},
   "outputs": [],
   "source": []
  },
  {
   "cell_type": "code",
   "execution_count": null,
   "id": "984db7df-2150-4ce2-83bf-6ddb57fbb7c0",
   "metadata": {},
   "outputs": [],
   "source": []
  },
  {
   "cell_type": "code",
   "execution_count": null,
   "id": "58421533-7d15-4d4e-b203-e4f5dbc574d2",
   "metadata": {},
   "outputs": [],
   "source": []
  },
  {
   "cell_type": "code",
   "execution_count": null,
   "id": "6f6de48b-eaed-450c-bd4e-67f36233d3af",
   "metadata": {},
   "outputs": [],
   "source": []
  },
  {
   "cell_type": "code",
   "execution_count": null,
   "id": "02a0ab20-e428-409f-b041-dc20fa07da4c",
   "metadata": {},
   "outputs": [],
   "source": [
    "from collections import defaultdict\n",
    "import numpy as np\n",
    "import pandas as pd\n",
    "\n",
    "# Time frame of the data\n",
    "min_month = 201901\n",
    "max_month = 202109\n",
    "\n",
    "# Group the dataset by 'numero_de_cliente'\n",
    "grouped_filtered = X_combined_filtered_df.groupby('numero_de_cliente')\n",
    "\n",
    "sequences_filtered = defaultdict(list)\n",
    "labels_filtered = defaultdict(list)\n",
    "skipped_clients = []  # Keep track of skipped clients\n",
    "\n",
    "# Helper function to calculate the range of months\n",
    "def generate_month_range(start_month, end_month):\n",
    "    year_start, month_start = divmod(int(start_month), 100)\n",
    "    year_end, month_end = divmod(int(end_month), 100)\n",
    "    \n",
    "    return [year * 100 + month for year in range(year_start, year_end + 1) \n",
    "            for month in range(1, 13) if (year > year_start or month >= month_start) \n",
    "            and (year < year_end or month <= month_end)]\n",
    "\n",
    "# Generate the full range of months in the dataset\n",
    "full_month_range = generate_month_range(min_month, max_month)\n",
    "\n",
    "# Total sequence length to be 33 months\n",
    "total_sequence_length = 33\n",
    "\n",
    "# Create sequences for each client\n",
    "for client_id, group in grouped_filtered:\n",
    "    # Retain the client_id separately (client ID is the first feature and should be restored later)\n",
    "    numero_de_cliente = group['numero_de_cliente'].values[0]  # Store client_id\n",
    "    \n",
    "    # Extract the feature data (including 'numero_de_cliente' initially for padding)\n",
    "    client_sequence = group.drop(columns=['clase_ternaria', 'foto_mes']).values\n",
    "    client_labels = group['clase_ternaria'].values\n",
    "    client_foto_mes = group['foto_mes'].values\n",
    "\n",
    "    # Initialize lists to collect the sequence and labels\n",
    "    full_sequence = []\n",
    "    full_labels = []\n",
    "    \n",
    "    # Determine the first active month for this client\n",
    "    first_active_month = int(np.min(client_foto_mes))\n",
    "    \n",
    "    # Check if there are any valid (non-NaN) labels\n",
    "    valid_months_with_labels = client_foto_mes[~pd.isna(client_labels)]\n",
    "    months_with_nan_labels = client_foto_mes[pd.isna(client_labels)]\n",
    "    \n",
    "    if len(valid_months_with_labels) == 0:\n",
    "        # Print client details when skipping\n",
    "        print(f\"Skipping Client ID: {numero_de_cliente}\")\n",
    "        #print(f\"Active months: {client_foto_mes}\")\n",
    "        #print(f\"Months with NaN labels: {months_with_nan_labels}\")\n",
    "        \n",
    "        # Add this client to the skipped list\n",
    "        skipped_clients.append(numero_de_cliente)\n",
    "        continue\n",
    "    \n",
    "    # Determine the last active month (where label is not NaN)\n",
    "    last_active_month = int(valid_months_with_labels.max())\n",
    "    \n",
    "    # Step 1: Pad the beginning of the sequence if the client first appears after min_month\n",
    "    if first_active_month > min_month:\n",
    "        # Calculate the number of months to pad before the client first appears\n",
    "        months_to_pad = generate_month_range(min_month, first_active_month - 1)\n",
    "        \n",
    "        for _ in months_to_pad:\n",
    "            padded_features = np.zeros(client_sequence.shape[1])  # Pad features with 0s\n",
    "            full_sequence.append(padded_features)\n",
    "            full_labels.append('OUT')  # Append 'OUT' label for missing months\n",
    "    \n",
    "    # Step 2: Iterate over all months from the first active month to the last active month\n",
    "    for month in generate_month_range(first_active_month, max_month):\n",
    "        if month > last_active_month:\n",
    "            # Stop adding once we pass the last active month\n",
    "            break\n",
    "        elif month not in client_foto_mes and month <= last_active_month:\n",
    "            # Client was not in the database for this month, pad with zeros and 'OUT'\n",
    "            padded_features = np.zeros(client_sequence.shape[1])  # Pad features with 0s\n",
    "            full_sequence.append(padded_features)\n",
    "            full_labels.append('OUT')  # Append 'OUT' label for missing months\n",
    "        elif month in client_foto_mes:\n",
    "            # Client was in the database for this month\n",
    "            month_index = np.where(client_foto_mes == month)[0]\n",
    "            \n",
    "            if len(month_index) > 0:\n",
    "                # Client has data for this month\n",
    "                sequence_data = client_sequence[month_index[0]]\n",
    "                label_data = client_labels[month_index[0]]\n",
    "                \n",
    "                # Skip if the label is NaN (do not pad later months)\n",
    "                if pd.isna(label_data):\n",
    "                    continue\n",
    "                \n",
    "                full_sequence.append(sequence_data)  # Append actual data for this month\n",
    "                full_labels.append(label_data)  # Append actual label\n",
    "    \n",
    "    # Convert to numpy arrays\n",
    "    full_sequence = np.array(full_sequence)\n",
    "    full_labels = np.array(full_labels)\n",
    "    \n",
    "    # Step 3: Now, pad at the beginning to ensure the sequence has exactly 33 months if it is shorter.\n",
    "    current_length = len(full_sequence)\n",
    "    \n",
    "    if current_length < total_sequence_length:\n",
    "        # Calculate the number of months to pad at the start\n",
    "        padding_length = total_sequence_length - current_length\n",
    "        \n",
    "        # Create padding of zeros and 'OUT' labels for the start\n",
    "        padding_features = np.zeros((padding_length, full_sequence.shape[1]))\n",
    "        padding_labels = np.full(padding_length, 'OUT')\n",
    "        \n",
    "        # Concatenate padding at the beginning of the sequence and labels\n",
    "        full_sequence = np.concatenate((padding_features, full_sequence), axis=0)\n",
    "        full_labels = np.concatenate((padding_labels, full_labels), axis=0)\n",
    "    \n",
    "    # Restore 'numero_de_cliente' in the first column of the features\n",
    "    if len(full_sequence) > 0:\n",
    "        full_sequence[:, 0] = numero_de_cliente\n",
    "\n",
    "    # Print debug info if the sequence is not of length 33\n",
    "    if len(full_sequence) != total_sequence_length:\n",
    "        print(f\"Client ID {numero_de_cliente} sequence not 33 months, length is {len(full_sequence)}\")\n",
    "    \n",
    "    # Only append if the client was not skipped\n",
    "    if numero_de_cliente not in skipped_clients:\n",
    "        sequences_filtered[client_id].append(full_sequence)\n",
    "        labels_filtered[client_id].append(full_labels)\n",
    "\n",
    "# Convert the sequences and labels dictionaries to NumPy arrays\n",
    "sequence_array_filtered = np.array([seq[0] for seq in sequences_filtered.values()])\n",
    "label_array_filtered = np.array([label[0] for label in labels_filtered.values()])\n",
    "\n",
    "print(\"Number of skipped clients:\", len(skipped_clients))\n"
   ]
  },
  {
   "cell_type": "code",
   "execution_count": null,
   "id": "460405bf-17a9-4ef8-9c68-68da1c69688d",
   "metadata": {},
   "outputs": [],
   "source": [
    "# Convert the sequences and labels dictionaries to NumPy arrays\n",
    "sequence_array_filtered = np.array(list(sequences_filtered.values()))\n",
    "label_array_filtered = np.array(list(labels_filtered.values()))\n"
   ]
  },
  {
   "cell_type": "code",
   "execution_count": null,
   "id": "7e25d688-9990-47ac-92dd-8ce6e1fe0aa2",
   "metadata": {},
   "outputs": [],
   "source": [
    "print(sequence_array_filtered.shape[:])\n",
    "print(label_array_filtered.shape[:])"
   ]
  },
  {
   "cell_type": "code",
   "execution_count": null,
   "id": "e16cdb3d-a121-4945-8ef4-fc6a62d3db7d",
   "metadata": {},
   "outputs": [],
   "source": [
    "print(label_array_filtered[2])"
   ]
  },
  {
   "cell_type": "code",
   "execution_count": null,
   "id": "a2d2dbba-abd3-4de9-9d30-f7bf88d5cbf8",
   "metadata": {},
   "outputs": [],
   "source": [
    "labels_filtered[29507885]\n",
    "labels_filtered[29184493]\n",
    "labels_filtered[31498147]"
   ]
  },
  {
   "cell_type": "code",
   "execution_count": null,
   "id": "2c313b64-9a42-4ea1-95c8-c70cc4f8d3bb",
   "metadata": {},
   "outputs": [],
   "source": [
    "labels_filtered[29184493]"
   ]
  },
  {
   "cell_type": "code",
   "execution_count": null,
   "id": "e1d64550-3b74-49c6-bab4-101a26fb12c9",
   "metadata": {},
   "outputs": [],
   "source": [
    "labels_filtered[31498147]"
   ]
  },
  {
   "cell_type": "code",
   "execution_count": null,
   "id": "6cbd1e7e-68f0-4c7a-bcd0-39dd100b40e6",
   "metadata": {},
   "outputs": [],
   "source": [
    "# Save the sequences and labels arrays\n",
    "np.savez('sequence_array_filtered_TRAINING2.npz', sequences=sequence_array_filtered)\n",
    "np.savez('label_array_filtered_TRAINING2.npz', labels=label_array_filtered)"
   ]
  },
  {
   "cell_type": "code",
   "execution_count": null,
   "id": "c0e39889-f580-4f7e-8e56-57338e6f83f4",
   "metadata": {},
   "outputs": [],
   "source": [
    "# Loop through the labels_filtered dictionary\n",
    "for client_id, label_sequence_list in labels_filtered.items():\n",
    "    # Check if any label sequence ends with 'BAJA+1'\n",
    "    for label_sequence in label_sequence_list:\n",
    "        if label_sequence[-1] == 'BAJA+2':\n",
    "            print(f\"Client ID: {client_id}\")\n",
    "            print(f\"Labels: {label_sequence}\")\n",
    "            break  # Stop after finding the first match\n"
   ]
  },
  {
   "cell_type": "code",
   "execution_count": null,
   "id": "bbdf93c6-1b32-4fe8-b697-32ce48402e9f",
   "metadata": {},
   "outputs": [],
   "source": [
    "labels_filtered"
   ]
  },
  {
   "cell_type": "code",
   "execution_count": null,
   "id": "838c3386-c4e2-4251-8732-806446ca14e7",
   "metadata": {},
   "outputs": [],
   "source": []
  },
  {
   "cell_type": "code",
   "execution_count": null,
   "id": "522c091c-bbd7-4ec7-aa5d-99bc9327b2cc",
   "metadata": {},
   "outputs": [],
   "source": []
  },
  {
   "cell_type": "code",
   "execution_count": null,
   "id": "d2a73bda-0dd3-45ed-adce-371de4ae807c",
   "metadata": {},
   "outputs": [],
   "source": []
  },
  {
   "cell_type": "code",
   "execution_count": null,
   "id": "faa71c69-1744-44d0-a453-1f27752b175c",
   "metadata": {},
   "outputs": [],
   "source": [
    "X_combined_filtered_df = pd.read_pickle('X_combined_filtered_df_TRAINING.pkl')"
   ]
  },
  {
   "cell_type": "code",
   "execution_count": null,
   "id": "aa8262a4-7158-48af-ac02-fdfcb6c28020",
   "metadata": {},
   "outputs": [],
   "source": [
    "client_uptime = pd.read_pickle('client_uptime.pkl')"
   ]
  },
  {
   "cell_type": "code",
   "execution_count": null,
   "id": "f36c6781-b806-415f-8e46-72b5a9e08702",
   "metadata": {},
   "outputs": [],
   "source": [
    "# Group the dataset by 'numero_de_cliente'\n",
    "grouped_filtered = X_combined_filtered_df.groupby('numero_de_cliente')\n",
    "\n",
    "sequences_filtered = defaultdict(list)\n",
    "labels_filtered = defaultdict(list)\n",
    "\n",
    "# Time frame of the data\n",
    "min_month = 201901\n",
    "max_month = 202109\n",
    "\n",
    "# Helper function to calculate the range of months\n",
    "def generate_month_range(start_month, end_month):\n",
    "    year_start, month_start = divmod(start_month, 100)\n",
    "    year_end, month_end = divmod(end_month, 100)\n",
    "    \n",
    "    return [year * 100 + month for year in range(year_start, year_end + 1) \n",
    "            for month in range(1, 13) if (year > year_start or month >= month_start) \n",
    "            and (year < year_end or month <= month_end)]\n",
    "\n",
    "# Generate the full range of months in the dataset\n",
    "full_month_range = generate_month_range(min_month, max_month)\n",
    "\n",
    "# Create sequences for each client\n",
    "for client_id, group in grouped_filtered:\n",
    "    # Retain the client_id separately (client ID is the first feature and should be restored later)\n",
    "    numero_de_cliente = group['numero_de_cliente'].values[0]  # Store client_id\n",
    "    \n",
    "    # Extract the feature data (including 'numero_de_cliente' initially for padding)\n",
    "    client_sequence = group.drop(columns=['clase_ternaria', 'foto_mes']).values\n",
    "    client_labels = group['clase_ternaria'].values\n",
    "    client_foto_mes = group['foto_mes'].values\n",
    "\n",
    "    full_sequence = []\n",
    "    full_labels = []\n",
    "    \n",
    "    # Iterate over all months from min_month to max_month\n",
    "    for month in full_month_range:\n",
    "        if month not in client_foto_mes:\n",
    "            # Client was not in the database for this month, pad all features (including 'numero_de_cliente') with 0\n",
    "            padded_features = np.zeros(client_sequence.shape[1])  # Pad with 0s\n",
    "            full_sequence.append(padded_features)  # Append the padded features\n",
    "            full_labels.append('OUT')  # Pad with 'OUT' for the label\n",
    "        else:\n",
    "            # Client was in the database for this month\n",
    "            month_index = np.where(client_foto_mes == month)[0]\n",
    "            \n",
    "            if len(month_index) > 0:\n",
    "                # Client has data for this month\n",
    "                sequence_data = client_sequence[month_index[0]]\n",
    "                label_data = client_labels[month_index[0]]\n",
    "                \n",
    "                if pd.isna(label_data):\n",
    "                    # Replace NaN with 'MISSING'\n",
    "                    label_data = 'MISSING'\n",
    "                \n",
    "                full_sequence.append(sequence_data)  # Append actual data for this month\n",
    "                full_labels.append(label_data)  # Append actual label\n",
    "    \n",
    "    # Convert the full sequences and labels into NumPy arrays\n",
    "    full_sequence = np.array(full_sequence)\n",
    "    full_labels = np.array(full_labels)\n",
    "    \n",
    "    # Replace the padded 'numero_de_cliente' (first feature) with the actual client ID\n",
    "    full_sequence[:, 0] = numero_de_cliente  # Restore 'numero_de_cliente' in the first column\n",
    "    \n",
    "    # Store padded sequences and labels, while retaining the client ID in the features\n",
    "    sequences_filtered[client_id].append(full_sequence)\n",
    "    labels_filtered[client_id].append(full_labels)\n",
    "\n",
    "# 'sequences_filtered' and 'labels_filtered' now contain fully padded sequences and labels, with client IDs correctly restored.\n"
   ]
  },
  {
   "cell_type": "code",
   "execution_count": null,
   "id": "ff57915e-8e60-4459-9d4f-698176503a1c",
   "metadata": {},
   "outputs": [],
   "source": [
    "# Convert the sequences and labels dictionaries to NumPy arrays\n",
    "sequence_array_filtered = np.array(list(sequences_filtered.values()))\n",
    "label_array_filtered = np.array(list(labels_filtered.values()))\n"
   ]
  },
  {
   "cell_type": "code",
   "execution_count": null,
   "id": "15a2edf7-3588-4116-8db0-b93c1bda583c",
   "metadata": {},
   "outputs": [],
   "source": [
    "sequence_array_filtered.shape[:]"
   ]
  },
  {
   "cell_type": "code",
   "execution_count": null,
   "id": "66a81e64-55ea-48ad-ac3f-be31c3aab898",
   "metadata": {},
   "outputs": [],
   "source": [
    "label_array_filtered.shape[:]"
   ]
  },
  {
   "cell_type": "code",
   "execution_count": null,
   "id": "b57b53f3-2185-4a0d-867f-400e671775de",
   "metadata": {},
   "outputs": [],
   "source": [
    "sequence_array_filtered[4][0][0][0]"
   ]
  },
  {
   "cell_type": "code",
   "execution_count": null,
   "id": "4d6963fd-28c7-4a85-921d-565739ab8cfa",
   "metadata": {},
   "outputs": [],
   "source": [
    "client_ids = sequence_array_filtered[:, :, 0, 0]"
   ]
  },
  {
   "cell_type": "code",
   "execution_count": null,
   "id": "7bd2a65b-6fe7-456e-a565-e725abf4b013",
   "metadata": {},
   "outputs": [],
   "source": [
    "len(client_ids)"
   ]
  },
  {
   "cell_type": "code",
   "execution_count": null,
   "id": "5044e078-81a5-4515-b7b0-2cddf269a815",
   "metadata": {},
   "outputs": [],
   "source": [
    "X_combined_filtered_df['numero_de_cliente'][4]"
   ]
  },
  {
   "cell_type": "code",
   "execution_count": null,
   "id": "31871438-4956-4d8b-b484-3fb2328e2200",
   "metadata": {},
   "outputs": [],
   "source": [
    "# Check if there are any '0' in the 'numero_de_cliente' column\n",
    "has_zero_in_numero_de_cliente = (X_combined_filtered_df['numero_de_cliente'] == 0).any()\n",
    "\n",
    "# Output the result\n",
    "if has_zero_in_numero_de_cliente:\n",
    "    print(\"There is at least one 'numero_de_cliente' with value 0.\")\n",
    "else:\n",
    "    print(\"No 'numero_de_cliente' with value 0 found.\")\n"
   ]
  },
  {
   "cell_type": "code",
   "execution_count": null,
   "id": "4923e5b3-20a5-4969-b8c6-320e561711f3",
   "metadata": {},
   "outputs": [],
   "source": [
    "# Save the sequences and labels arrays\n",
    "np.savez('sequence_array_filtered_TRAINING.npz', sequences=sequence_array_filtered)\n",
    "np.savez('label_array_filtered_TRAINING.npz', labels=label_array_filtered)"
   ]
  },
  {
   "cell_type": "code",
   "execution_count": null,
   "id": "4d53e8aa-7ab2-450d-9cf3-ac6ef5bebfba",
   "metadata": {},
   "outputs": [],
   "source": [
    "labels_filtered[29507885]"
   ]
  },
  {
   "cell_type": "code",
   "execution_count": null,
   "id": "c2ffc212-f6a0-4a72-bd52-e8d35aea7cc6",
   "metadata": {},
   "outputs": [],
   "source": [
    "# Count unique client IDs\n",
    "unique_client_ids = np.unique(client_ids)\n",
    "print(f\"Number of unique client IDs: {len(unique_client_ids)}\")\n",
    "\n",
    "# Check if there are any zeros in the client IDs\n",
    "if 0 in unique_client_ids:\n",
    "    print(\"There are client IDs with a value of 0.\")\n",
    "else:\n",
    "    print(\"There are no client IDs with a value of 0.\")"
   ]
  },
  {
   "cell_type": "code",
   "execution_count": null,
   "id": "055ee1d8-7365-42c5-b504-ea08f3c60c69",
   "metadata": {},
   "outputs": [],
   "source": []
  }
 ],
 "metadata": {
  "kernelspec": {
   "display_name": "Python 3 (ipykernel)",
   "language": "python",
   "name": "python3"
  },
  "language_info": {
   "codemirror_mode": {
    "name": "ipython",
    "version": 3
   },
   "file_extension": ".py",
   "mimetype": "text/x-python",
   "name": "python",
   "nbconvert_exporter": "python",
   "pygments_lexer": "ipython3",
   "version": "3.9.13"
  }
 },
 "nbformat": 4,
 "nbformat_minor": 5
}
